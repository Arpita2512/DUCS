{
  "nbformat": 4,
  "nbformat_minor": 0,
  "metadata": {
    "kernelspec": {
      "language": "python",
      "display_name": "Python 3",
      "name": "python3"
    },
    "language_info": {
      "pygments_lexer": "ipython3",
      "nbconvert_exporter": "python",
      "version": "3.6.4",
      "file_extension": ".py",
      "codemirror_mode": {
        "name": "ipython",
        "version": 3
      },
      "name": "python",
      "mimetype": "text/x-python"
    },
    "colab": {
      "name": "quora-question-pairs.ipynb",
      "provenance": [],
      "collapsed_sections": []
    },
    "accelerator": "GPU"
  },
  "cells": [
    {
      "cell_type": "code",
      "metadata": {
        "colab": {
          "base_uri": "https://localhost:8080/"
        },
        "id": "-Lkfx8994ca2",
        "outputId": "bc91cad5-3b0d-469b-8168-15e0fcb9fd76"
      },
      "source": [
        " from google.colab import drive\n",
        "drive.mount('/content/drive')\n",
        "import os\n",
        "os.chdir('/content/drive/My Drive/ml project')"
      ],
      "execution_count": null,
      "outputs": [
        {
          "output_type": "stream",
          "name": "stdout",
          "text": [
            "Mounted at /content/drive\n"
          ]
        }
      ]
    },
    {
      "cell_type": "code",
      "metadata": {
        "id": "Mbt9DwLwBrv9"
      },
      "source": [
        "import numpy as np\n",
        "seed = 0"
      ],
      "execution_count": null,
      "outputs": []
    },
    {
      "cell_type": "code",
      "metadata": {
        "execution": {
          "iopub.status.busy": "2021-10-23T02:41:27.617789Z",
          "iopub.execute_input": "2021-10-23T02:41:27.618333Z",
          "iopub.status.idle": "2021-10-23T02:41:29.627835Z",
          "shell.execute_reply.started": "2021-10-23T02:41:27.618297Z",
          "shell.execute_reply": "2021-10-23T02:41:29.627088Z"
        },
        "trusted": true,
        "colab": {
          "base_uri": "https://localhost:8080/",
          "height": 203
        },
        "id": "6WaTxXX34Jcs",
        "outputId": "f1e431d8-7eb8-4665-d721-6c59a972ca39"
      },
      "source": [
        "import pandas as pd\n",
        "df = pd.read_csv('quora_questions.csv')\n",
        "df.head()"
      ],
      "execution_count": null,
      "outputs": [
        {
          "output_type": "execute_result",
          "data": {
            "text/html": [
              "<div>\n",
              "<style scoped>\n",
              "    .dataframe tbody tr th:only-of-type {\n",
              "        vertical-align: middle;\n",
              "    }\n",
              "\n",
              "    .dataframe tbody tr th {\n",
              "        vertical-align: top;\n",
              "    }\n",
              "\n",
              "    .dataframe thead th {\n",
              "        text-align: right;\n",
              "    }\n",
              "</style>\n",
              "<table border=\"1\" class=\"dataframe\">\n",
              "  <thead>\n",
              "    <tr style=\"text-align: right;\">\n",
              "      <th></th>\n",
              "      <th>id</th>\n",
              "      <th>qid1</th>\n",
              "      <th>qid2</th>\n",
              "      <th>question1</th>\n",
              "      <th>question2</th>\n",
              "      <th>is_duplicate</th>\n",
              "    </tr>\n",
              "  </thead>\n",
              "  <tbody>\n",
              "    <tr>\n",
              "      <th>0</th>\n",
              "      <td>0</td>\n",
              "      <td>1</td>\n",
              "      <td>2</td>\n",
              "      <td>What is the step by step guide to invest in sh...</td>\n",
              "      <td>What is the step by step guide to invest in sh...</td>\n",
              "      <td>0</td>\n",
              "    </tr>\n",
              "    <tr>\n",
              "      <th>1</th>\n",
              "      <td>1</td>\n",
              "      <td>3</td>\n",
              "      <td>4</td>\n",
              "      <td>What is the story of Kohinoor (Koh-i-Noor) Dia...</td>\n",
              "      <td>What would happen if the Indian government sto...</td>\n",
              "      <td>0</td>\n",
              "    </tr>\n",
              "    <tr>\n",
              "      <th>2</th>\n",
              "      <td>2</td>\n",
              "      <td>5</td>\n",
              "      <td>6</td>\n",
              "      <td>How can I increase the speed of my internet co...</td>\n",
              "      <td>How can Internet speed be increased by hacking...</td>\n",
              "      <td>0</td>\n",
              "    </tr>\n",
              "    <tr>\n",
              "      <th>3</th>\n",
              "      <td>3</td>\n",
              "      <td>7</td>\n",
              "      <td>8</td>\n",
              "      <td>Why am I mentally very lonely? How can I solve...</td>\n",
              "      <td>Find the remainder when [math]23^{24}[/math] i...</td>\n",
              "      <td>0</td>\n",
              "    </tr>\n",
              "    <tr>\n",
              "      <th>4</th>\n",
              "      <td>4</td>\n",
              "      <td>9</td>\n",
              "      <td>10</td>\n",
              "      <td>Which one dissolve in water quikly sugar, salt...</td>\n",
              "      <td>Which fish would survive in salt water?</td>\n",
              "      <td>0</td>\n",
              "    </tr>\n",
              "  </tbody>\n",
              "</table>\n",
              "</div>"
            ],
            "text/plain": [
              "   id  qid1  ...                                          question2 is_duplicate\n",
              "0   0     1  ...  What is the step by step guide to invest in sh...            0\n",
              "1   1     3  ...  What would happen if the Indian government sto...            0\n",
              "2   2     5  ...  How can Internet speed be increased by hacking...            0\n",
              "3   3     7  ...  Find the remainder when [math]23^{24}[/math] i...            0\n",
              "4   4     9  ...            Which fish would survive in salt water?            0\n",
              "\n",
              "[5 rows x 6 columns]"
            ]
          },
          "metadata": {},
          "execution_count": 3
        }
      ]
    },
    {
      "cell_type": "code",
      "metadata": {
        "colab": {
          "base_uri": "https://localhost:8080/",
          "height": 203
        },
        "id": "kh9GcG244w-K",
        "outputId": "4c8c8e11-c2e1-4cb4-e6eb-14552992f208"
      },
      "source": [
        "df = df.drop(['id','qid1','qid2'], axis=1)\n",
        "df.head()"
      ],
      "execution_count": null,
      "outputs": [
        {
          "output_type": "execute_result",
          "data": {
            "text/html": [
              "<div>\n",
              "<style scoped>\n",
              "    .dataframe tbody tr th:only-of-type {\n",
              "        vertical-align: middle;\n",
              "    }\n",
              "\n",
              "    .dataframe tbody tr th {\n",
              "        vertical-align: top;\n",
              "    }\n",
              "\n",
              "    .dataframe thead th {\n",
              "        text-align: right;\n",
              "    }\n",
              "</style>\n",
              "<table border=\"1\" class=\"dataframe\">\n",
              "  <thead>\n",
              "    <tr style=\"text-align: right;\">\n",
              "      <th></th>\n",
              "      <th>question1</th>\n",
              "      <th>question2</th>\n",
              "      <th>is_duplicate</th>\n",
              "    </tr>\n",
              "  </thead>\n",
              "  <tbody>\n",
              "    <tr>\n",
              "      <th>0</th>\n",
              "      <td>What is the step by step guide to invest in sh...</td>\n",
              "      <td>What is the step by step guide to invest in sh...</td>\n",
              "      <td>0</td>\n",
              "    </tr>\n",
              "    <tr>\n",
              "      <th>1</th>\n",
              "      <td>What is the story of Kohinoor (Koh-i-Noor) Dia...</td>\n",
              "      <td>What would happen if the Indian government sto...</td>\n",
              "      <td>0</td>\n",
              "    </tr>\n",
              "    <tr>\n",
              "      <th>2</th>\n",
              "      <td>How can I increase the speed of my internet co...</td>\n",
              "      <td>How can Internet speed be increased by hacking...</td>\n",
              "      <td>0</td>\n",
              "    </tr>\n",
              "    <tr>\n",
              "      <th>3</th>\n",
              "      <td>Why am I mentally very lonely? How can I solve...</td>\n",
              "      <td>Find the remainder when [math]23^{24}[/math] i...</td>\n",
              "      <td>0</td>\n",
              "    </tr>\n",
              "    <tr>\n",
              "      <th>4</th>\n",
              "      <td>Which one dissolve in water quikly sugar, salt...</td>\n",
              "      <td>Which fish would survive in salt water?</td>\n",
              "      <td>0</td>\n",
              "    </tr>\n",
              "  </tbody>\n",
              "</table>\n",
              "</div>"
            ],
            "text/plain": [
              "                                           question1  ... is_duplicate\n",
              "0  What is the step by step guide to invest in sh...  ...            0\n",
              "1  What is the story of Kohinoor (Koh-i-Noor) Dia...  ...            0\n",
              "2  How can I increase the speed of my internet co...  ...            0\n",
              "3  Why am I mentally very lonely? How can I solve...  ...            0\n",
              "4  Which one dissolve in water quikly sugar, salt...  ...            0\n",
              "\n",
              "[5 rows x 3 columns]"
            ]
          },
          "metadata": {},
          "execution_count": 4
        }
      ]
    },
    {
      "cell_type": "code",
      "metadata": {
        "colab": {
          "base_uri": "https://localhost:8080/"
        },
        "id": "vg0-4kqG49ZY",
        "outputId": "74663937-a8d1-46ab-80d1-9d4106bc7cb3"
      },
      "source": [
        "import nltk\n",
        "nltk.download('stopwords')\n",
        "nltk.download('averaged_perceptron_tagger')\n",
        "nltk.download('wordnet')"
      ],
      "execution_count": null,
      "outputs": [
        {
          "output_type": "stream",
          "name": "stdout",
          "text": [
            "[nltk_data] Downloading package stopwords to /root/nltk_data...\n",
            "[nltk_data]   Unzipping corpora/stopwords.zip.\n",
            "[nltk_data] Downloading package averaged_perceptron_tagger to\n",
            "[nltk_data]     /root/nltk_data...\n",
            "[nltk_data]   Unzipping taggers/averaged_perceptron_tagger.zip.\n",
            "[nltk_data] Downloading package wordnet to /root/nltk_data...\n",
            "[nltk_data]   Unzipping corpora/wordnet.zip.\n"
          ]
        },
        {
          "output_type": "execute_result",
          "data": {
            "text/plain": [
              "True"
            ]
          },
          "metadata": {},
          "execution_count": 5
        }
      ]
    },
    {
      "cell_type": "code",
      "metadata": {
        "execution": {
          "iopub.status.busy": "2021-10-23T02:41:33.148722Z",
          "iopub.execute_input": "2021-10-23T02:41:33.148986Z",
          "iopub.status.idle": "2021-10-23T02:41:34.396164Z",
          "shell.execute_reply.started": "2021-10-23T02:41:33.14896Z",
          "shell.execute_reply": "2021-10-23T02:41:34.395451Z"
        },
        "trusted": true,
        "id": "9lVC-4YD4Jct"
      },
      "source": [
        "import re\n",
        "from nltk.stem import WordNetLemmatizer\n",
        "from nltk import pos_tag\n",
        "from nltk.corpus import wordnet\n",
        "\n",
        "lemmatizer = WordNetLemmatizer()\n",
        "\n",
        "def get_wordnet_pos(treebank_tag):\n",
        "\n",
        "    if treebank_tag.startswith('J'):\n",
        "        return wordnet.ADJ\n",
        "    elif treebank_tag.startswith('V'):\n",
        "        return wordnet.VERB\n",
        "    elif treebank_tag.startswith('N'):\n",
        "        return wordnet.NOUN\n",
        "    elif treebank_tag.startswith('R'):\n",
        "        return wordnet.ADV\n",
        "    else:\n",
        "        return None \n",
        "\n",
        "\n",
        "def clean_text(text):\n",
        "    \n",
        "    text = re.sub(r'[^\\w\\s]','',text, re.UNICODE)\n",
        "    text = text.lower()\n",
        "    text = text.split(\" \")\n",
        "    text = [i for i in text if i]\n",
        "    tagged = pos_tag(text)\n",
        "    tokens = []\n",
        "    for word, tag in tagged:\n",
        "        wntag = get_wordnet_pos(tag)\n",
        "        if wntag is None:\n",
        "            lemma = lemmatizer.lemmatize(word)\n",
        "        else:\n",
        "            lemma = lemmatizer.lemmatize(word, pos=wntag)\n",
        "        tokens.append(lemma)\n",
        "    text = \" \".join(tokens)\n",
        "   \n",
        "    return text"
      ],
      "execution_count": null,
      "outputs": []
    },
    {
      "cell_type": "code",
      "metadata": {
        "execution": {
          "iopub.status.busy": "2021-10-23T02:41:36.977634Z",
          "iopub.execute_input": "2021-10-23T02:41:36.978325Z",
          "iopub.status.idle": "2021-10-23T02:50:36.897937Z",
          "shell.execute_reply.started": "2021-10-23T02:41:36.978282Z",
          "shell.execute_reply": "2021-10-23T02:50:36.897179Z"
        },
        "trusted": true,
        "colab": {
          "base_uri": "https://localhost:8080/",
          "height": 203
        },
        "id": "6NzHeQDg4Jcu",
        "outputId": "7c365f46-91d6-47eb-8085-4e8d970c958b"
      },
      "source": [
        "df['question1'] = df.question1.apply(lambda x: clean_text(str(x)))\n",
        "df['question2'] = df.question2.apply(lambda x: clean_text(str(x)))\n",
        "df.head()"
      ],
      "execution_count": null,
      "outputs": [
        {
          "output_type": "execute_result",
          "data": {
            "text/html": [
              "<div>\n",
              "<style scoped>\n",
              "    .dataframe tbody tr th:only-of-type {\n",
              "        vertical-align: middle;\n",
              "    }\n",
              "\n",
              "    .dataframe tbody tr th {\n",
              "        vertical-align: top;\n",
              "    }\n",
              "\n",
              "    .dataframe thead th {\n",
              "        text-align: right;\n",
              "    }\n",
              "</style>\n",
              "<table border=\"1\" class=\"dataframe\">\n",
              "  <thead>\n",
              "    <tr style=\"text-align: right;\">\n",
              "      <th></th>\n",
              "      <th>question1</th>\n",
              "      <th>question2</th>\n",
              "      <th>is_duplicate</th>\n",
              "    </tr>\n",
              "  </thead>\n",
              "  <tbody>\n",
              "    <tr>\n",
              "      <th>0</th>\n",
              "      <td>what be the step by step guide to invest in sh...</td>\n",
              "      <td>what be the step by step guide to invest in sh...</td>\n",
              "      <td>0</td>\n",
              "    </tr>\n",
              "    <tr>\n",
              "      <th>1</th>\n",
              "      <td>what be the story of kohinoor kohinoor diamond</td>\n",
              "      <td>what would happen if the indian government ste...</td>\n",
              "      <td>0</td>\n",
              "    </tr>\n",
              "    <tr>\n",
              "      <th>2</th>\n",
              "      <td>how can i increase the speed of my internet co...</td>\n",
              "      <td>how can internet speed be increase by hack thr...</td>\n",
              "      <td>0</td>\n",
              "    </tr>\n",
              "    <tr>\n",
              "      <th>3</th>\n",
              "      <td>why be i mentally very lonely how can i solve it</td>\n",
              "      <td>find the remainder when math2324math be divide...</td>\n",
              "      <td>0</td>\n",
              "    </tr>\n",
              "    <tr>\n",
              "      <th>4</th>\n",
              "      <td>which one dissolve in water quikly sugar salt ...</td>\n",
              "      <td>which fish would survive in salt water</td>\n",
              "      <td>0</td>\n",
              "    </tr>\n",
              "  </tbody>\n",
              "</table>\n",
              "</div>"
            ],
            "text/plain": [
              "                                           question1  ... is_duplicate\n",
              "0  what be the step by step guide to invest in sh...  ...            0\n",
              "1     what be the story of kohinoor kohinoor diamond  ...            0\n",
              "2  how can i increase the speed of my internet co...  ...            0\n",
              "3   why be i mentally very lonely how can i solve it  ...            0\n",
              "4  which one dissolve in water quikly sugar salt ...  ...            0\n",
              "\n",
              "[5 rows x 3 columns]"
            ]
          },
          "metadata": {},
          "execution_count": 7
        }
      ]
    },
    {
      "cell_type": "code",
      "metadata": {
        "id": "168wwpyeEPF2"
      },
      "source": [
        "max_len_q1 = -1\n",
        "max_len_q2 = -1\n",
        "total_len_q1 = 0\n",
        "total_len_q2 = 0\n",
        "\n",
        "for index, row in df.iterrows():\n",
        "  q1_len = len(row['question1'].split(\" \"))\n",
        "  q2_len = len(row['question2'].split(\" \"))\n",
        "  \n",
        "  if q1_len > max_len_q1:\n",
        "    max_len_q1 = q1_len\n",
        "  if q2_len > max_len_q2:\n",
        "    max_len_q2 = q2_len\n",
        "  \n",
        "  total_len_q1 += q1_len\n",
        "  total_len_q2 += q2_len"
      ],
      "execution_count": null,
      "outputs": []
    },
    {
      "cell_type": "code",
      "metadata": {
        "colab": {
          "base_uri": "https://localhost:8080/"
        },
        "id": "I8TD9NR7FujK",
        "outputId": "af8efc0c-2930-4d67-a29d-271c9118c242"
      },
      "source": [
        "max_len_q1, max_len_q2"
      ],
      "execution_count": null,
      "outputs": [
        {
          "output_type": "execute_result",
          "data": {
            "text/plain": [
              "(125, 237)"
            ]
          },
          "metadata": {},
          "execution_count": 9
        }
      ]
    },
    {
      "cell_type": "code",
      "metadata": {
        "colab": {
          "base_uri": "https://localhost:8080/"
        },
        "id": "NYv7CBqnIilc",
        "outputId": "b9e75c4f-8d5a-47bf-86e9-f29b5a201243"
      },
      "source": [
        "total_len_q1/df.shape[0], total_len_q2/df.shape[0]"
      ],
      "execution_count": null,
      "outputs": [
        {
          "output_type": "execute_result",
          "data": {
            "text/plain": [
              "(10.922876411830316, 11.163563339771635)"
            ]
          },
          "metadata": {},
          "execution_count": 10
        }
      ]
    },
    {
      "cell_type": "code",
      "metadata": {
        "execution": {
          "iopub.status.busy": "2021-10-23T02:50:54.14886Z",
          "iopub.execute_input": "2021-10-23T02:50:54.149119Z",
          "iopub.status.idle": "2021-10-23T02:50:54.156906Z",
          "shell.execute_reply.started": "2021-10-23T02:50:54.149084Z",
          "shell.execute_reply": "2021-10-23T02:50:54.15603Z"
        },
        "trusted": true,
        "id": "FENWNBMX4Jcv"
      },
      "source": [
        "from keras.preprocessing.text import Tokenizer\n",
        "from keras.preprocessing.sequence import pad_sequences\n",
        "from keras.layers import Dense , Input , LSTM , Embedding, Dropout , LeakyReLU\n",
        "from keras.layers import Bidirectional, Concatenate, Dot, GlobalMaxPooling1D\n",
        "from keras.models import Model"
      ],
      "execution_count": null,
      "outputs": []
    },
    {
      "cell_type": "code",
      "metadata": {
        "execution": {
          "iopub.status.busy": "2021-10-23T02:50:55.225813Z",
          "iopub.execute_input": "2021-10-23T02:50:55.226077Z",
          "iopub.status.idle": "2021-10-23T02:50:55.278963Z",
          "shell.execute_reply.started": "2021-10-23T02:50:55.226051Z",
          "shell.execute_reply": "2021-10-23T02:50:55.278118Z"
        },
        "trusted": true,
        "colab": {
          "base_uri": "https://localhost:8080/"
        },
        "id": "ViaTBlJt4Jcv",
        "outputId": "ba08fef7-e830-4479-c5d8-971eea50cba4"
      },
      "source": [
        "all_text = pd.concat([df['question1'], df['question2']]).reset_index(drop=True)\n",
        "all_text.head()"
      ],
      "execution_count": null,
      "outputs": [
        {
          "output_type": "execute_result",
          "data": {
            "text/plain": [
              "0    what be the step by step guide to invest in sh...\n",
              "1       what be the story of kohinoor kohinoor diamond\n",
              "2    how can i increase the speed of my internet co...\n",
              "3     why be i mentally very lonely how can i solve it\n",
              "4    which one dissolve in water quikly sugar salt ...\n",
              "dtype: object"
            ]
          },
          "metadata": {},
          "execution_count": 9
        }
      ]
    },
    {
      "cell_type": "code",
      "metadata": {
        "execution": {
          "iopub.status.busy": "2021-10-23T02:51:02.429452Z",
          "iopub.execute_input": "2021-10-23T02:51:02.430023Z",
          "iopub.status.idle": "2021-10-23T02:51:27.910175Z",
          "shell.execute_reply.started": "2021-10-23T02:51:02.429987Z",
          "shell.execute_reply": "2021-10-23T02:51:27.909467Z"
        },
        "trusted": true,
        "id": "KXbSJKaq4Jcw"
      },
      "source": [
        "max_words = 201000\n",
        "tokenizer = Tokenizer(num_words=max_words)\n",
        "tokenizer.fit_on_texts(all_text)\n",
        "q1_seq = tokenizer.texts_to_sequences(df['question1'])\n",
        "q2_seq = tokenizer.texts_to_sequences(df['question2'])"
      ],
      "execution_count": null,
      "outputs": []
    },
    {
      "cell_type": "code",
      "metadata": {
        "execution": {
          "iopub.status.busy": "2021-10-23T03:03:19.164138Z",
          "iopub.execute_input": "2021-10-23T03:03:19.164759Z",
          "iopub.status.idle": "2021-10-23T03:03:25.155132Z",
          "shell.execute_reply.started": "2021-10-23T03:03:19.16472Z",
          "shell.execute_reply": "2021-10-23T03:03:25.154307Z"
        },
        "trusted": true,
        "id": "4SriGMiL4Jcx"
      },
      "source": [
        "pad_len = 50\n",
        "q1_pad = pad_sequences(q1_seq, maxlen=pad_len)\n",
        "q2_pad = pad_sequences(q2_seq, maxlen=pad_len)"
      ],
      "execution_count": null,
      "outputs": []
    },
    {
      "cell_type": "code",
      "metadata": {
        "execution": {
          "iopub.status.busy": "2021-10-23T03:03:35.345085Z",
          "iopub.execute_input": "2021-10-23T03:03:35.345637Z",
          "iopub.status.idle": "2021-10-23T03:03:35.349605Z",
          "shell.execute_reply.started": "2021-10-23T03:03:35.345599Z",
          "shell.execute_reply": "2021-10-23T03:03:35.348759Z"
        },
        "trusted": true,
        "id": "gVMdvTpn4Jcy"
      },
      "source": [
        "y = df['is_duplicate']"
      ],
      "execution_count": null,
      "outputs": []
    },
    {
      "cell_type": "code",
      "metadata": {
        "colab": {
          "base_uri": "https://localhost:8080/"
        },
        "id": "OIXFUjKnBlDP",
        "outputId": "f16790f9-ec93-4d27-9962-e317e80f4808"
      },
      "source": [
        "from sklearn.model_selection import train_test_split\n",
        "\n",
        "q1_pad_train, q1_pad_val, q2_pad_train, q2_pad_val, y_train, y_val = train_test_split(q1_pad, q2_pad, y, \n",
        "                                                                                      random_state=seed,\n",
        "                                                                                      test_size=0.1)\n",
        "\n",
        "q1_pad_val, q1_pad_test, q2_pad_val, q2_pad_test, y_val, y_test = train_test_split(q1_pad_val, q2_pad_val, y_val, \n",
        "                                                                                   random_state=seed,\n",
        "                                                                                   test_size=0.5)\n",
        "\n",
        "q1_pad_train.shape, q1_pad_val.shape, q1_pad_test.shape, y_train.shape, y_val.shape, y_test.shape"
      ],
      "execution_count": null,
      "outputs": [
        {
          "output_type": "execute_result",
          "data": {
            "text/plain": [
              "((363915, 50), (20218, 50), (20218, 50), (363915,), (20218,), (20218,))"
            ]
          },
          "metadata": {},
          "execution_count": 14
        }
      ]
    },
    {
      "cell_type": "code",
      "metadata": {
        "execution": {
          "iopub.status.busy": "2021-10-23T03:03:41.89837Z",
          "iopub.execute_input": "2021-10-23T03:03:41.899064Z",
          "iopub.status.idle": "2021-10-23T03:03:42.2105Z",
          "shell.execute_reply.started": "2021-10-23T03:03:41.899014Z",
          "shell.execute_reply": "2021-10-23T03:03:42.209743Z"
        },
        "trusted": true,
        "colab": {
          "base_uri": "https://localhost:8080/"
        },
        "id": "f4S21Vl74Jcy",
        "outputId": "7c2f061d-0683-46a0-ef8a-b578c3e7f366"
      },
      "source": [
        "embedding_size = 512\n",
        "\n",
        "inp1 = Input(shape=(pad_len,))\n",
        "inp2 = Input(shape=(pad_len,))\n",
        "\n",
        "x1 = Embedding(max_words, embedding_size)(inp1)\n",
        "x2 = Embedding(max_words, embedding_size)(inp2)\n",
        "\n",
        "x3 = Bidirectional(LSTM(32, return_sequences = True))(x1)\n",
        "x4 = Bidirectional(LSTM(32, return_sequences = True))(x2)\n",
        "\n",
        "x5 = GlobalMaxPooling1D()(x3)\n",
        "x6 = GlobalMaxPooling1D()(x4)\n",
        "\n",
        "x7 =  Dot(axes=1)([x5, x6])\n",
        "\n",
        "x8 = Dense(40)(x7)\n",
        "x9 = LeakyReLU()(x8)\n",
        "x10 = Dropout(0.05)(x9)\n",
        "\n",
        "x11 = Dense(10)(x10)\n",
        "x12 = LeakyReLU()(x11)\n",
        "x13 = Dropout(0.05)(x12)\n",
        "\n",
        "output = Dense(1, activation=\"sigmoid\")(x13)\n",
        "\n",
        "model = Model(inputs=[inp1, inp2], outputs=output)\n",
        "model.summary()"
      ],
      "execution_count": null,
      "outputs": [
        {
          "output_type": "stream",
          "name": "stdout",
          "text": [
            "Model: \"model\"\n",
            "__________________________________________________________________________________________________\n",
            "Layer (type)                    Output Shape         Param #     Connected to                     \n",
            "==================================================================================================\n",
            "input_3 (InputLayer)            [(None, 50)]         0                                            \n",
            "__________________________________________________________________________________________________\n",
            "input_4 (InputLayer)            [(None, 50)]         0                                            \n",
            "__________________________________________________________________________________________________\n",
            "embedding (Embedding)           (None, 50, 512)      102912000   input_3[0][0]                    \n",
            "__________________________________________________________________________________________________\n",
            "embedding_1 (Embedding)         (None, 50, 512)      102912000   input_4[0][0]                    \n",
            "__________________________________________________________________________________________________\n",
            "bidirectional (Bidirectional)   (None, 50, 64)       139520      embedding[0][0]                  \n",
            "__________________________________________________________________________________________________\n",
            "bidirectional_1 (Bidirectional) (None, 50, 64)       139520      embedding_1[0][0]                \n",
            "__________________________________________________________________________________________________\n",
            "global_max_pooling1d (GlobalMax (None, 64)           0           bidirectional[0][0]              \n",
            "__________________________________________________________________________________________________\n",
            "global_max_pooling1d_1 (GlobalM (None, 64)           0           bidirectional_1[0][0]            \n",
            "__________________________________________________________________________________________________\n",
            "dot (Dot)                       (None, 1)            0           global_max_pooling1d[0][0]       \n",
            "                                                                 global_max_pooling1d_1[0][0]     \n",
            "__________________________________________________________________________________________________\n",
            "dense (Dense)                   (None, 40)           80          dot[0][0]                        \n",
            "__________________________________________________________________________________________________\n",
            "leaky_re_lu (LeakyReLU)         (None, 40)           0           dense[0][0]                      \n",
            "__________________________________________________________________________________________________\n",
            "dropout (Dropout)               (None, 40)           0           leaky_re_lu[0][0]                \n",
            "__________________________________________________________________________________________________\n",
            "dense_1 (Dense)                 (None, 10)           410         dropout[0][0]                    \n",
            "__________________________________________________________________________________________________\n",
            "leaky_re_lu_1 (LeakyReLU)       (None, 10)           0           dense_1[0][0]                    \n",
            "__________________________________________________________________________________________________\n",
            "dropout_1 (Dropout)             (None, 10)           0           leaky_re_lu_1[0][0]              \n",
            "__________________________________________________________________________________________________\n",
            "dense_2 (Dense)                 (None, 1)            11          dropout_1[0][0]                  \n",
            "==================================================================================================\n",
            "Total params: 206,103,541\n",
            "Trainable params: 206,103,541\n",
            "Non-trainable params: 0\n",
            "__________________________________________________________________________________________________\n"
          ]
        }
      ]
    },
    {
      "cell_type": "code",
      "metadata": {
        "id": "WM1ZBPVFepya",
        "colab": {
          "base_uri": "https://localhost:8080/",
          "height": 1000
        },
        "outputId": "38cbbada-cc52-4184-d56b-a679e975c94e"
      },
      "source": [
        "from keras.utils.vis_utils import plot_model\n",
        "plot_model(model, to_file='model.png', show_shapes=True, show_layer_names=False)"
      ],
      "execution_count": null,
      "outputs": [
        {
          "output_type": "execute_result",
          "data": {
            "image/png": "[encoded data removed]",
            "text/plain": [
              "<IPython.core.display.Image object>"
            ]
          },
          "metadata": {},
          "execution_count": 31
        }
      ]
    },
    {
      "cell_type": "code",
      "metadata": {
        "id": "AMYVxGcVNur0"
      },
      "source": [
        "model.compile(loss='binary_crossentropy', optimizer='adam', metrics=['accuracy'])\n",
        "batch_size = 100\n",
        "epochs = 3"
      ],
      "execution_count": null,
      "outputs": []
    },
    {
      "cell_type": "code",
      "metadata": {
        "execution": {
          "iopub.status.busy": "2021-10-23T03:04:27.669122Z",
          "iopub.execute_input": "2021-10-23T03:04:27.669867Z",
          "iopub.status.idle": "2021-10-23T03:24:53.521469Z",
          "shell.execute_reply.started": "2021-10-23T03:04:27.669829Z",
          "shell.execute_reply": "2021-10-23T03:24:53.520604Z"
        },
        "trusted": true,
        "colab": {
          "base_uri": "https://localhost:8080/"
        },
        "id": "FyfwDZ0a4Jcz",
        "outputId": "67d57ba1-adec-43a0-ae3a-cc6c53eac27b"
      },
      "source": [
        "history = model.fit([q1_pad_train, q2_pad_train], y_train,\n",
        "          batch_size=batch_size, epochs=epochs,\n",
        "          validation_data=([q1_pad_val, q2_pad_val], y_val))"
      ],
      "execution_count": null,
      "outputs": [
        {
          "output_type": "stream",
          "name": "stdout",
          "text": [
            "Epoch 1/3\n",
            "3640/3640 [==============================] - 758s 205ms/step - loss: 0.5038 - accuracy: 0.7557 - val_loss: 0.4598 - val_accuracy: 0.7821\n",
            "Epoch 2/3\n",
            "3640/3640 [==============================] - 746s 205ms/step - loss: 0.3819 - accuracy: 0.8252 - val_loss: 0.4381 - val_accuracy: 0.8007\n",
            "Epoch 3/3\n",
            "3640/3640 [==============================] - 747s 205ms/step - loss: 0.2798 - accuracy: 0.8770 - val_loss: 0.4595 - val_accuracy: 0.8043\n"
          ]
        }
      ]
    },
    {
      "cell_type": "code",
      "metadata": {
        "id": "nIQy5TXJu08j"
      },
      "source": [
        "from sklearn.metrics import accuracy_score, precision_score, recall_score, f1_score\n",
        "\n",
        "y_pred_train = model.predict([q1_pad_train, q2_pad_train])\n",
        "\n",
        "y_pred_train = np.where(y_pred_train > 0.5, 1, 0)"
      ],
      "execution_count": null,
      "outputs": []
    },
    {
      "cell_type": "code",
      "metadata": {
        "colab": {
          "base_uri": "https://localhost:8080/"
        },
        "id": "F2ceTjCU7l1C",
        "outputId": "72a048d5-8993-4542-e904-2992651bf2e5"
      },
      "source": [
        "print('Train Accuracy: ', str(accuracy_score(y_train, y_pred_train)))\n",
        "print('Train Precision: ', str(precision_score(y_train, y_pred_train)))\n",
        "print('Train Recall: ', str(recall_score(y_train, y_pred_train)))\n",
        "print('Train F1 Score: ', str(f1_score(y_train, y_pred_train)))"
      ],
      "execution_count": null,
      "outputs": [
        {
          "output_type": "stream",
          "name": "stdout",
          "text": [
            "Train Accuracy:  0.9266257230397208\n",
            "Train Precision:  0.9143765491971118\n",
            "Train Recall:  0.8840520385227967\n",
            "Train F1 Score:  0.8989586329029622\n"
          ]
        }
      ]
    },
    {
      "cell_type": "code",
      "metadata": {
        "id": "fdvKvcnN0fyz"
      },
      "source": [
        "y_pred_val = model.predict([q1_pad_val, q2_pad_val])\n",
        "\n",
        "y_pred_val = np.where(y_pred_val > 0.5, 1, 0)"
      ],
      "execution_count": null,
      "outputs": []
    },
    {
      "cell_type": "code",
      "metadata": {
        "colab": {
          "base_uri": "https://localhost:8080/"
        },
        "id": "p0hoE2Nd9bMq",
        "outputId": "2e849785-3dc9-4367-f46d-230129911e03"
      },
      "source": [
        "print('Validation Accuracy: ', str(accuracy_score(y_val, y_pred_val)))\n",
        "print('Validation Precision: ', str(precision_score(y_val, y_pred_val)))\n",
        "print('Validation Recall: ', str(recall_score(y_val, y_pred_val)))\n",
        "print('Validation F1 Score: ', str(f1_score(y_val, y_pred_val)))"
      ],
      "execution_count": null,
      "outputs": [
        {
          "output_type": "stream",
          "name": "stdout",
          "text": [
            "Validation Accuracy:  0.8042833119002869\n",
            "Validation Precision:  0.7527308838133069\n",
            "Validation Recall:  0.7055851063829788\n",
            "Validation F1 Score:  0.7283959091221087\n"
          ]
        }
      ]
    },
    {
      "cell_type": "code",
      "metadata": {
        "id": "rzQJHRa00gTm"
      },
      "source": [
        "y_pred_test = model.predict([q1_pad_test, q2_pad_test])\n",
        "\n",
        "y_pred_test = np.where(y_pred_test > 0.5, 1, 0)"
      ],
      "execution_count": null,
      "outputs": []
    },
    {
      "cell_type": "code",
      "metadata": {
        "colab": {
          "base_uri": "https://localhost:8080/"
        },
        "id": "dpOFpl-O95Zr",
        "outputId": "674342d6-dae2-493f-d613-55851d2a1fd3"
      },
      "source": [
        "print('Test Accuracy: ', str(accuracy_score(y_test, y_pred_test)))\n",
        "print('Test Precision: ', str(precision_score(y_test, y_pred_test)))\n",
        "print('Test Recall: ', str(recall_score(y_test, y_pred_test)))\n",
        "print('Test F1 Score: ', str(f1_score(y_test, y_pred_test)))"
      ],
      "execution_count": null,
      "outputs": [
        {
          "output_type": "stream",
          "name": "stdout",
          "text": [
            "Test Accuracy:  0.8062617469581561\n",
            "Test Precision:  0.7506790564689063\n",
            "Test Recall:  0.7073006465517241\n",
            "Test F1 Score:  0.7283445453914972\n"
          ]
        }
      ]
    },
    {
      "cell_type": "code",
      "metadata": {
        "id": "Ba7ylfoIaUyz"
      },
      "source": [
        "import matplotlib.pyplot as plt\n",
        "plt.rcParams['figure.figsize'] = (12, 10)"
      ],
      "execution_count": null,
      "outputs": []
    },
    {
      "cell_type": "code",
      "metadata": {
        "id": "-8CVMkJybF4N"
      },
      "source": [
        "plt.plot(history.history['accuracy'])\n",
        "plt.plot(history.history['val_accuracy'])\n",
        "plt.plot(history.history['loss'])\n",
        "plt.plot(history.history['val_loss'])\n",
        "plt.legend(['Train Accuracy', 'Val Accuracy', 'Train Loss', 'Val Loss'])"
      ],
      "execution_count": null,
      "outputs": []
    },
    {
      "cell_type": "code",
      "metadata": {
        "id": "C_WuoZEYcMNn"
      },
      "source": [
        "df.to_csv('clean_data.csv')"
      ],
      "execution_count": null,
      "outputs": []
    },
    {
      "cell_type": "code",
      "metadata": {
        "id": "mN3Yomw_cUAr"
      },
      "source": [
        "model.save('final_model.h5')"
      ],
      "execution_count": null,
      "outputs": []
    }
  ]
}