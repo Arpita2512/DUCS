{
 "cells": [
  {
   "cell_type": "markdown",
   "metadata": {},
   "source": [
    "## Implement K-means clustering using a small dataset (2D data / 10-12 objects)\n",
    "\n",
    "### Initilaize centroids by:\n",
    "\n",
    "1. Randomly generate k centroids within range of attributes\n",
    "\n",
    "2. Randomly choose k data objects to be centroids"
   ]
  },
  {
   "cell_type": "code",
   "execution_count": 1,
   "metadata": {},
   "outputs": [],
   "source": [
    "'''\n",
    "define data points\n",
    " \n",
    "column 1: x values\n",
    "column 2: y values\n",
    "column 3: cluster assigned (initial value -1)\n",
    "'''\n",
    "\n",
    "import numpy as np\n",
    "\n",
    "data = np.array([\n",
    "    [10, 9, -1],\n",
    "    [12, 18, -1],\n",
    "    [15, 29, -1],\n",
    "    [22, 18, -1],\n",
    "    [49, 33, -1],\n",
    "    [51, 40, -1],\n",
    "    [47, 39, -1],\n",
    "    [53, 50, -1],\n",
    "    [62, 45, -1],\n",
    "    [93, 99, -1],\n",
    "    [95, 89, -1],\n",
    "    [99, 93, -1]\n",
    "])"
   ]
  },
  {
   "cell_type": "code",
   "execution_count": 2,
   "metadata": {},
   "outputs": [
    {
     "data": {
      "image/png": "[encoded data removed]",
      "text/plain": [
       "<Figure size 432x288 with 1 Axes>"
      ]
     },
     "metadata": {
      "needs_background": "light"
     },
     "output_type": "display_data"
    }
   ],
   "source": [
    "# visualize data\n",
    "\n",
    "from matplotlib import pyplot as plt\n",
    "\n",
    "plt.scatter(data[:,0], data[:,1])\n",
    "plt.title('Data Points')\n",
    "plt.show()"
   ]
  },
  {
   "cell_type": "code",
   "execution_count": 10,
   "metadata": {},
   "outputs": [],
   "source": [
    "# Centroid Initialization Using Range\n",
    "\n",
    "import random\n",
    "\n",
    "def random_values_within_range(x, y, k):\n",
    "    x_min = min(x)\n",
    "    x_max = max(x)\n",
    "    centroids_x = random.sample(range(x_min, x_max), k)\n",
    "    \n",
    "    y_min = min(y)\n",
    "    y_max = max(y)\n",
    "    centroids_y = random.sample(range(y_min, y_max), k)\n",
    "    \n",
    "    return np.column_stack((centroids_x, centroids_y))   "
   ]
  },
  {
   "cell_type": "code",
   "execution_count": 11,
   "metadata": {},
   "outputs": [],
   "source": [
    "# euclidean distance\n",
    "\n",
    "def calculate_dist(p1, p2):\n",
    "    return (p1[0]-p2[0])**2 + (p1[1]-p2[1])**2    "
   ]
  },
  {
   "cell_type": "code",
   "execution_count": 12,
   "metadata": {},
   "outputs": [],
   "source": [
    "# function to update clusters assigned to data points\n",
    "\n",
    "def update_clusters(data, centroids, k):\n",
    "    #print(centroids)\n",
    "    for p in data:\n",
    "        min_dist = 9999\n",
    "        for c in range(len(centroids)):\n",
    "            temp = calculate_dist(centroids[c], p)\n",
    "            if temp < min_dist:\n",
    "                min_dist = temp\n",
    "                p[2] = c"
   ]
  },
  {
   "cell_type": "code",
   "execution_count": 13,
   "metadata": {},
   "outputs": [],
   "source": [
    "# function to update cluster centroids\n",
    "\n",
    "def update_centroids(data, centroids, k):\n",
    "    for c in range(len(centroids)):\n",
    "        x_sse = 0\n",
    "        y_sse = 0\n",
    "        m = 0\n",
    "        for p in data:\n",
    "            if p[2] == c:\n",
    "                x_sse += p[0]\n",
    "                y_sse += p[1]\n",
    "                m += 1\n",
    "        if m > 0:\n",
    "            centroids[c, 0] = x_sse/m\n",
    "            centroids[c, 1] = y_sse/m        "
   ]
  },
  {
   "cell_type": "code",
   "execution_count": 14,
   "metadata": {},
   "outputs": [],
   "source": [
    "def kmeans_using_range(data, k, iterations):\n",
    "    plt.scatter(data[:,0], data[:,1], color='blue', label='Data Points')\n",
    "    \n",
    "    centroids = random_values_within_range(data[:,0], data[:,1], k)\n",
    "    plt.scatter(centroids[:,0], centroids[:,1], color = 'red', label='Initial Centroids')\n",
    "    \n",
    "    for i in range(iterations):\n",
    "        update_clusters(data, centroids, k)\n",
    "        update_centroids(data, centroids, k)\n",
    "    \n",
    "    plt.scatter(centroids[:,0], centroids[:,1], color = 'black', label='Final Centroids')\n",
    "    plt.title('K-means clustering using Range')\n",
    "    plt.legend()"
   ]
  },
  {
   "cell_type": "code",
   "execution_count": 15,
   "metadata": {},
   "outputs": [
    {
     "data": {
      "image/png": "[encoded data removed]",
      "text/plain": [
       "<Figure size 432x288 with 1 Axes>"
      ]
     },
     "metadata": {
      "needs_background": "light"
     },
     "output_type": "display_data"
    }
   ],
   "source": [
    "kmeans_using_range(data, 3, 5)"
   ]
  },
  {
   "cell_type": "code",
   "execution_count": 16,
   "metadata": {},
   "outputs": [],
   "source": [
    "# Centroid Initialization using random points in data\n",
    "\n",
    "def random_points_in_data(data, k):\n",
    "    temp = list(data)\n",
    "    centroids = random.sample(temp, k)\n",
    "    centroids = np.array(centroids)\n",
    "    centroids = np.delete(centroids, 2, 1)\n",
    "    return centroids  "
   ]
  },
  {
   "cell_type": "code",
   "execution_count": 19,
   "metadata": {},
   "outputs": [],
   "source": [
    "def kmeans_using_random_data_points(data, k, iterations):\n",
    "    plt.scatter(data[:,0], data[:,1], color='blue', label='Data Points')\n",
    "    \n",
    "    centroids = random_points_in_data(data, k)\n",
    "    plt.scatter(centroids[:,0], centroids[:,1], color = 'red', label='Initial Centroids')\n",
    "    \n",
    "    for i in range(iterations):\n",
    "        update_clusters(data, centroids, k)\n",
    "        update_centroids(data, centroids, k)\n",
    "    \n",
    "    plt.scatter(centroids[:,0], centroids[:,1], color = 'black', label='Final Centroids')\n",
    "    plt.title('K-means clustering using random data points')\n",
    "    plt.legend()"
   ]
  },
  {
   "cell_type": "code",
   "execution_count": 24,
   "metadata": {},
   "outputs": [
    {
     "data": {
      "image/png": "[encoded data removed]",
      "text/plain": [
       "<Figure size 432x288 with 1 Axes>"
      ]
     },
     "metadata": {
      "needs_background": "light"
     },
     "output_type": "display_data"
    }
   ],
   "source": [
    "kmeans_using_random_data_points(data, 3, 5)"
   ]
  }
 ],
 "metadata": {
  "kernelspec": {
   "display_name": "Python 3",
   "language": "python",
   "name": "python3"
  },
  "language_info": {
   "codemirror_mode": {
    "name": "ipython",
    "version": 3
   },
   "file_extension": ".py",
   "mimetype": "text/x-python",
   "name": "python",
   "nbconvert_exporter": "python",
   "pygments_lexer": "ipython3",
   "version": "3.7.6"
  }
 },
 "nbformat": 4,
 "nbformat_minor": 4
}
